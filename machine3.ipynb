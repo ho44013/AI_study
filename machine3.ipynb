{
  "nbformat": 4,
  "nbformat_minor": 0,
  "metadata": {
    "colab": {
      "provenance": [],
      "authorship_tag": "ABX9TyNkQyYgKgz5sHAbajrdFc79",
      "include_colab_link": true
    },
    "kernelspec": {
      "name": "python3",
      "display_name": "Python 3"
    },
    "language_info": {
      "name": "python"
    }
  },
  "cells": [
    {
      "cell_type": "markdown",
      "metadata": {
        "id": "view-in-github",
        "colab_type": "text"
      },
      "source": [
        "<a href=\"https://colab.research.google.com/github/ho44013/machine_study/blob/main/machine3.ipynb\" target=\"_parent\"><img src=\"https://colab.research.google.com/assets/colab-badge.svg\" alt=\"Open In Colab\"/></a>"
      ]
    },
    {
      "cell_type": "markdown",
      "source": [
        "# 3. 회귀 알고리즘과 모델 규제"
      ],
      "metadata": {
        "id": "GAGpEGINc0mM"
      }
    },
    {
      "cell_type": "markdown",
      "source": [
        "## 03-1. k-최근접 이웃 회귀"
      ],
      "metadata": {
        "id": "0kodPwMzc7xz"
      }
    },
    {
      "cell_type": "code",
      "source": [
        "import numpy as np\n",
        "\n",
        "perch_length = np.array(\n",
        "    [ 8.4, 13.7, 15.0, 16.2, 17.4, 18.0, 18.7, 19.0, 19.6, 20.0,\n",
        "     21.0, 21.0, 21.0, 21.3, 22.0, 22.0, 22.0, 22.0, 22.0, 22.5,\n",
        "     22.5, 22.7, 23.0, 23.5, 24.0, 24.0, 24.6, 25.0, 25.6, 26.5,\n",
        "     27.3, 27.5, 27.5, 27.5, 28.0, 28.7, 30.0, 32.8, 34.5, 35.0,\n",
        "     36.5, 36.0, 37.0, 37.0, 39.0, 39.0, 39.0, 40.0, 40.0, 40.0,\n",
        "     40.0, 42.0, 43.0, 43.0, 43.5, 44.0]\n",
        "     )\n",
        "perch_weight = np.array(\n",
        "    [  5.9, 32.0, 40.0, 51.5, 70.0, 100.0, 78.0, 80.0, 85.0, 85.0,\n",
        "     110.0, 115.0, 125.0, 130.0, 120.0, 120.0, 130.0, 135.0, 110.0,\n",
        "     130.0, 150.0, 145.0, 150.0, 170.0, 225.0, 145.0, 188.0, 180.0,\n",
        "     197.0, 218.0, 300.0, 260.0, 265.0, 250.0, 250.0, 300.0, 320.0,\n",
        "     514.0, 556.0, 840.0, 685.0, 700.0, 700.0, 690.0, 900.0, 650.0,\n",
        "     820.0, 850.0, 900.0, 1015.0, 820.0, 1100.0, 1000.0, 1100.0,\n",
        "     1000.0, 1000.0]\n",
        "    )"
      ],
      "metadata": {
        "id": "n4b0CexWdAOK"
      },
      "execution_count": null,
      "outputs": []
    },
    {
      "cell_type": "code",
      "source": [
        "import matplotlib .pyplot as plt\n",
        "plt.scatter(perch_length, perch_weight)\n",
        "plt.xlabel('length')\n",
        "plt.ylabel('weight')\n",
        "plt.show()"
      ],
      "metadata": {
        "colab": {
          "base_uri": "https://localhost:8080/",
          "height": 449
        },
        "id": "O5dbHcFPdxQw",
        "outputId": "6c728b36-a6e5-4be4-d6e9-9eda04327419"
      },
      "execution_count": null,
      "outputs": [
        {
          "output_type": "display_data",
          "data": {
            "text/plain": [
              "<Figure size 640x480 with 1 Axes>"
            ],
            "image/png": "[encoded data removed]"
          },
          "metadata": {}
        }
      ]
    },
    {
      "cell_type": "code",
      "source": [
        "from sklearn.model_selection import train_test_split\n",
        "\n",
        "train_input, test_input, train_target, test_target = train_test_split(perch_length, perch_weight, random_state=42)"
      ],
      "metadata": {
        "id": "_95RHxpEeAVJ"
      },
      "execution_count": null,
      "outputs": []
    },
    {
      "cell_type": "code",
      "source": [
        "train_input = train_input.reshape(-1, 1)\n",
        "test_input = test_input.reshape(-1, 1)\n",
        "\n",
        "print(train_input, test_input)"
      ],
      "metadata": {
        "id": "5z9yNwJae9ua",
        "colab": {
          "base_uri": "https://localhost:8080/"
        },
        "outputId": "514c4cf3-4839-4446-8762-1460579faf83"
      },
      "execution_count": null,
      "outputs": [
        {
          "output_type": "stream",
          "name": "stdout",
          "text": [
            "[[19.6]\n",
            " [22. ]\n",
            " [18.7]\n",
            " [17.4]\n",
            " [36. ]\n",
            " [25. ]\n",
            " [40. ]\n",
            " [39. ]\n",
            " [43. ]\n",
            " [22. ]\n",
            " [20. ]\n",
            " [22. ]\n",
            " [24. ]\n",
            " [27.5]\n",
            " [43. ]\n",
            " [40. ]\n",
            " [24. ]\n",
            " [21. ]\n",
            " [27.5]\n",
            " [40. ]\n",
            " [32.8]\n",
            " [26.5]\n",
            " [36.5]\n",
            " [13.7]\n",
            " [22.7]\n",
            " [15. ]\n",
            " [37. ]\n",
            " [35. ]\n",
            " [28.7]\n",
            " [23.5]\n",
            " [39. ]\n",
            " [21. ]\n",
            " [23. ]\n",
            " [22. ]\n",
            " [44. ]\n",
            " [22.5]\n",
            " [19. ]\n",
            " [37. ]\n",
            " [22. ]\n",
            " [25.6]\n",
            " [42. ]\n",
            " [34.5]] [[ 8.4]\n",
            " [18. ]\n",
            " [27.5]\n",
            " [21.3]\n",
            " [22.5]\n",
            " [40. ]\n",
            " [30. ]\n",
            " [24.6]\n",
            " [39. ]\n",
            " [21. ]\n",
            " [43.5]\n",
            " [16.2]\n",
            " [28. ]\n",
            " [27.3]]\n"
          ]
        }
      ]
    },
    {
      "cell_type": "code",
      "source": [
        "from sklearn.neighbors import KNeighborsRegressor\n",
        "\n",
        "knr = KNeighborsRegressor()\n",
        "knr.fit(train_input, train_target)"
      ],
      "metadata": {
        "colab": {
          "base_uri": "https://localhost:8080/",
          "height": 75
        },
        "id": "qCC3YHaViA-I",
        "outputId": "d79a2a94-974a-4e50-9f17-342153ec0b07"
      },
      "execution_count": null,
      "outputs": [
        {
          "output_type": "execute_result",
          "data": {
            "text/plain": [
              "KNeighborsRegressor()"
            ],
            "text/html": [
              "<style>#sk-container-id-1 {color: black;background-color: white;}#sk-container-id-1 pre{padding: 0;}#sk-container-id-1 div.sk-toggleable {background-color: white;}#sk-container-id-1 label.sk-toggleable__label {cursor: pointer;display: block;width: 100%;margin-bottom: 0;padding: 0.3em;box-sizing: border-box;text-align: center;}#sk-container-id-1 label.sk-toggleable__label-arrow:before {content: \"▸\";float: left;margin-right: 0.25em;color: #696969;}#sk-container-id-1 label.sk-toggleable__label-arrow:hover:before {color: black;}#sk-container-id-1 div.sk-estimator:hover label.sk-toggleable__label-arrow:before {color: black;}#sk-container-id-1 div.sk-toggleable__content {max-height: 0;max-width: 0;overflow: hidden;text-align: left;background-color: #f0f8ff;}#sk-container-id-1 div.sk-toggleable__content pre {margin: 0.2em;color: black;border-radius: 0.25em;background-color: #f0f8ff;}#sk-container-id-1 input.sk-toggleable__control:checked~div.sk-toggleable__content {max-height: 200px;max-width: 100%;overflow: auto;}#sk-container-id-1 input.sk-toggleable__control:checked~label.sk-toggleable__label-arrow:before {content: \"▾\";}#sk-container-id-1 div.sk-estimator input.sk-toggleable__control:checked~label.sk-toggleable__label {background-color: #d4ebff;}#sk-container-id-1 div.sk-label input.sk-toggleable__control:checked~label.sk-toggleable__label {background-color: #d4ebff;}#sk-container-id-1 input.sk-hidden--visually {border: 0;clip: rect(1px 1px 1px 1px);clip: rect(1px, 1px, 1px, 1px);height: 1px;margin: -1px;overflow: hidden;padding: 0;position: absolute;width: 1px;}#sk-container-id-1 div.sk-estimator {font-family: monospace;background-color: #f0f8ff;border: 1px dotted black;border-radius: 0.25em;box-sizing: border-box;margin-bottom: 0.5em;}#sk-container-id-1 div.sk-estimator:hover {background-color: #d4ebff;}#sk-container-id-1 div.sk-parallel-item::after {content: \"\";width: 100%;border-bottom: 1px solid gray;flex-grow: 1;}#sk-container-id-1 div.sk-label:hover label.sk-toggleable__label {background-color: #d4ebff;}#sk-container-id-1 div.sk-serial::before {content: \"\";position: absolute;border-left: 1px solid gray;box-sizing: border-box;top: 0;bottom: 0;left: 50%;z-index: 0;}#sk-container-id-1 div.sk-serial {display: flex;flex-direction: column;align-items: center;background-color: white;padding-right: 0.2em;padding-left: 0.2em;position: relative;}#sk-container-id-1 div.sk-item {position: relative;z-index: 1;}#sk-container-id-1 div.sk-parallel {display: flex;align-items: stretch;justify-content: center;background-color: white;position: relative;}#sk-container-id-1 div.sk-item::before, #sk-container-id-1 div.sk-parallel-item::before {content: \"\";position: absolute;border-left: 1px solid gray;box-sizing: border-box;top: 0;bottom: 0;left: 50%;z-index: -1;}#sk-container-id-1 div.sk-parallel-item {display: flex;flex-direction: column;z-index: 1;position: relative;background-color: white;}#sk-container-id-1 div.sk-parallel-item:first-child::after {align-self: flex-end;width: 50%;}#sk-container-id-1 div.sk-parallel-item:last-child::after {align-self: flex-start;width: 50%;}#sk-container-id-1 div.sk-parallel-item:only-child::after {width: 0;}#sk-container-id-1 div.sk-dashed-wrapped {border: 1px dashed gray;margin: 0 0.4em 0.5em 0.4em;box-sizing: border-box;padding-bottom: 0.4em;background-color: white;}#sk-container-id-1 div.sk-label label {font-family: monospace;font-weight: bold;display: inline-block;line-height: 1.2em;}#sk-container-id-1 div.sk-label-container {text-align: center;}#sk-container-id-1 div.sk-container {/* jupyter's `normalize.less` sets `[hidden] { display: none; }` but bootstrap.min.css set `[hidden] { display: none !important; }` so we also need the `!important` here to be able to override the default hidden behavior on the sphinx rendered scikit-learn.org. See: https://github.com/scikit-learn/scikit-learn/issues/21755 */display: inline-block !important;position: relative;}#sk-container-id-1 div.sk-text-repr-fallback {display: none;}</style><div id=\"sk-container-id-1\" class=\"sk-top-container\"><div class=\"sk-text-repr-fallback\"><pre>KNeighborsRegressor()</pre><b>In a Jupyter environment, please rerun this cell to show the HTML representation or trust the notebook. <br />On GitHub, the HTML representation is unable to render, please try loading this page with nbviewer.org.</b></div><div class=\"sk-container\" hidden><div class=\"sk-item\"><div class=\"sk-estimator sk-toggleable\"><input class=\"sk-toggleable__control sk-hidden--visually\" id=\"sk-estimator-id-1\" type=\"checkbox\" checked><label for=\"sk-estimator-id-1\" class=\"sk-toggleable__label sk-toggleable__label-arrow\">KNeighborsRegressor</label><div class=\"sk-toggleable__content\"><pre>KNeighborsRegressor()</pre></div></div></div></div></div>"
            ]
          },
          "metadata": {},
          "execution_count": 5
        }
      ]
    },
    {
      "cell_type": "code",
      "source": [
        "print(knr.score(test_input, test_target))"
      ],
      "metadata": {
        "colab": {
          "base_uri": "https://localhost:8080/"
        },
        "id": "L9u-FoDTiNwm",
        "outputId": "7b411404-8384-4b03-8a1e-8a7389f72984"
      },
      "execution_count": null,
      "outputs": [
        {
          "output_type": "stream",
          "name": "stdout",
          "text": [
            "0.992809406101064\n"
          ]
        }
      ]
    },
    {
      "cell_type": "code",
      "source": [
        "from sklearn.metrics import mean_absolute_error\n",
        "\n",
        "test_prediction = knr.predict(test_input)\n",
        "\n",
        "mae = mean_absolute_error(test_target, test_prediction)\n",
        "print(mae)"
      ],
      "metadata": {
        "colab": {
          "base_uri": "https://localhost:8080/"
        },
        "id": "nYNApyC1iROu",
        "outputId": "3b76754f-4f82-447a-a5a9-118f0c501cb9"
      },
      "execution_count": null,
      "outputs": [
        {
          "output_type": "stream",
          "name": "stdout",
          "text": [
            "19.157142857142862\n"
          ]
        }
      ]
    },
    {
      "cell_type": "code",
      "source": [
        "print(knr.score(train_input, train_target))"
      ],
      "metadata": {
        "colab": {
          "base_uri": "https://localhost:8080/"
        },
        "id": "WdXE303ypjnv",
        "outputId": "feee68cc-45df-40b7-ba45-001f9e72122f"
      },
      "execution_count": null,
      "outputs": [
        {
          "output_type": "stream",
          "name": "stdout",
          "text": [
            "0.9698823289099254\n"
          ]
        }
      ]
    },
    {
      "cell_type": "code",
      "source": [
        "knr.n_neighrbors = 3\n",
        "\n",
        "knr.fit(train_input, train_target)\n",
        "knr.score(train_input, train_target)"
      ],
      "metadata": {
        "colab": {
          "base_uri": "https://localhost:8080/"
        },
        "id": "tZaIOqW7ru1v",
        "outputId": "302795e6-7298-4b98-ff49-6d66f758976b"
      },
      "execution_count": null,
      "outputs": [
        {
          "output_type": "execute_result",
          "data": {
            "text/plain": [
              "0.9804899950518966"
            ]
          },
          "metadata": {},
          "execution_count": 14
        }
      ]
    },
    {
      "cell_type": "code",
      "source": [
        "knr.score(test_input, test_target)"
      ],
      "metadata": {
        "id": "SoFLPux4s8vG",
        "colab": {
          "base_uri": "https://localhost:8080/"
        },
        "outputId": "7f851eaf-8343-4ca5-941f-404a18e67337"
      },
      "execution_count": null,
      "outputs": [
        {
          "output_type": "execute_result",
          "data": {
            "text/plain": [
              "0.9746459963987609"
            ]
          },
          "metadata": {},
          "execution_count": 16
        }
      ]
    },
    {
      "cell_type": "markdown",
      "source": [
        "## 3-2. 선형 회귀"
      ],
      "metadata": {
        "id": "czWJG1Y72eM5"
      }
    },
    {
      "cell_type": "code",
      "source": [
        "import numpy as np\n",
        "\n",
        "perch_length = np.array(\n",
        "    [ 8.4, 13.7, 15.0, 16.2, 17.4, 18.0, 18.7, 19.0, 19.6, 20.0,\n",
        "     21.0, 21.0, 21.0, 21.3, 22.0, 22.0, 22.0, 22.0, 22.0, 22.5,\n",
        "     22.5, 22.7, 23.0, 23.5, 24.0, 24.0, 24.6, 25.0, 25.6, 26.5,\n",
        "     27.3, 27.5, 27.5, 27.5, 28.0, 28.7, 30.0, 32.8, 34.5, 35.0,\n",
        "     36.5, 36.0, 37.0, 37.0, 39.0, 39.0, 39.0, 40.0, 40.0, 40.0,\n",
        "     40.0, 42.0, 43.0, 43.0, 43.5, 44.0]\n",
        "     )\n",
        "perch_weight = np.array(\n",
        "    [  5.9, 32.0, 40.0, 51.5, 70.0, 100.0, 78.0, 80.0, 85.0, 85.0,\n",
        "     110.0, 115.0, 125.0, 130.0, 120.0, 120.0, 130.0, 135.0, 110.0,\n",
        "     130.0, 150.0, 145.0, 150.0, 170.0, 225.0, 145.0, 188.0, 180.0,\n",
        "     197.0, 218.0, 300.0, 260.0, 265.0, 250.0, 250.0, 300.0, 320.0,\n",
        "     514.0, 556.0, 840.0, 685.0, 700.0, 700.0, 690.0, 900.0, 650.0,\n",
        "     820.0, 850.0, 900.0, 1015.0, 820.0, 1100.0, 1000.0, 1100.0,\n",
        "     1000.0, 1000.0]\n",
        "    )"
      ],
      "metadata": {
        "id": "afUxw1SI2h5D"
      },
      "execution_count": null,
      "outputs": []
    },
    {
      "cell_type": "code",
      "source": [
        "from sklearn.model_selection import train_test_split\n",
        "\n",
        "train_input, test_input, train_target, test_target = train_test_split(perch_length, perch_weight, random_state=42)\n",
        "\n",
        "train_input = train_input.reshape(-1, 1)\n",
        "test_input = test_input.reshape(-1, 1)"
      ],
      "metadata": {
        "id": "xlKY6L_V-Uur"
      },
      "execution_count": null,
      "outputs": []
    },
    {
      "cell_type": "code",
      "source": [
        "from sklearn.neighbors import KNeighborsRegressor\n",
        "\n",
        "knr = KNeighborsRegressor(n_neighbors=3)\n",
        "\n",
        "knr.fit(train_input, train_target)"
      ],
      "metadata": {
        "colab": {
          "base_uri": "https://localhost:8080/",
          "height": 75
        },
        "id": "EytXAhG6CnEz",
        "outputId": "ee983ae4-48e6-477d-8bcf-08b153dc563b"
      },
      "execution_count": null,
      "outputs": [
        {
          "output_type": "execute_result",
          "data": {
            "text/plain": [
              "KNeighborsRegressor(n_neighbors=3)"
            ],
            "text/html": [
              "<style>#sk-container-id-1 {color: black;background-color: white;}#sk-container-id-1 pre{padding: 0;}#sk-container-id-1 div.sk-toggleable {background-color: white;}#sk-container-id-1 label.sk-toggleable__label {cursor: pointer;display: block;width: 100%;margin-bottom: 0;padding: 0.3em;box-sizing: border-box;text-align: center;}#sk-container-id-1 label.sk-toggleable__label-arrow:before {content: \"▸\";float: left;margin-right: 0.25em;color: #696969;}#sk-container-id-1 label.sk-toggleable__label-arrow:hover:before {color: black;}#sk-container-id-1 div.sk-estimator:hover label.sk-toggleable__label-arrow:before {color: black;}#sk-container-id-1 div.sk-toggleable__content {max-height: 0;max-width: 0;overflow: hidden;text-align: left;background-color: #f0f8ff;}#sk-container-id-1 div.sk-toggleable__content pre {margin: 0.2em;color: black;border-radius: 0.25em;background-color: #f0f8ff;}#sk-container-id-1 input.sk-toggleable__control:checked~div.sk-toggleable__content {max-height: 200px;max-width: 100%;overflow: auto;}#sk-container-id-1 input.sk-toggleable__control:checked~label.sk-toggleable__label-arrow:before {content: \"▾\";}#sk-container-id-1 div.sk-estimator input.sk-toggleable__control:checked~label.sk-toggleable__label {background-color: #d4ebff;}#sk-container-id-1 div.sk-label input.sk-toggleable__control:checked~label.sk-toggleable__label {background-color: #d4ebff;}#sk-container-id-1 input.sk-hidden--visually {border: 0;clip: rect(1px 1px 1px 1px);clip: rect(1px, 1px, 1px, 1px);height: 1px;margin: -1px;overflow: hidden;padding: 0;position: absolute;width: 1px;}#sk-container-id-1 div.sk-estimator {font-family: monospace;background-color: #f0f8ff;border: 1px dotted black;border-radius: 0.25em;box-sizing: border-box;margin-bottom: 0.5em;}#sk-container-id-1 div.sk-estimator:hover {background-color: #d4ebff;}#sk-container-id-1 div.sk-parallel-item::after {content: \"\";width: 100%;border-bottom: 1px solid gray;flex-grow: 1;}#sk-container-id-1 div.sk-label:hover label.sk-toggleable__label {background-color: #d4ebff;}#sk-container-id-1 div.sk-serial::before {content: \"\";position: absolute;border-left: 1px solid gray;box-sizing: border-box;top: 0;bottom: 0;left: 50%;z-index: 0;}#sk-container-id-1 div.sk-serial {display: flex;flex-direction: column;align-items: center;background-color: white;padding-right: 0.2em;padding-left: 0.2em;position: relative;}#sk-container-id-1 div.sk-item {position: relative;z-index: 1;}#sk-container-id-1 div.sk-parallel {display: flex;align-items: stretch;justify-content: center;background-color: white;position: relative;}#sk-container-id-1 div.sk-item::before, #sk-container-id-1 div.sk-parallel-item::before {content: \"\";position: absolute;border-left: 1px solid gray;box-sizing: border-box;top: 0;bottom: 0;left: 50%;z-index: -1;}#sk-container-id-1 div.sk-parallel-item {display: flex;flex-direction: column;z-index: 1;position: relative;background-color: white;}#sk-container-id-1 div.sk-parallel-item:first-child::after {align-self: flex-end;width: 50%;}#sk-container-id-1 div.sk-parallel-item:last-child::after {align-self: flex-start;width: 50%;}#sk-container-id-1 div.sk-parallel-item:only-child::after {width: 0;}#sk-container-id-1 div.sk-dashed-wrapped {border: 1px dashed gray;margin: 0 0.4em 0.5em 0.4em;box-sizing: border-box;padding-bottom: 0.4em;background-color: white;}#sk-container-id-1 div.sk-label label {font-family: monospace;font-weight: bold;display: inline-block;line-height: 1.2em;}#sk-container-id-1 div.sk-label-container {text-align: center;}#sk-container-id-1 div.sk-container {/* jupyter's `normalize.less` sets `[hidden] { display: none; }` but bootstrap.min.css set `[hidden] { display: none !important; }` so we also need the `!important` here to be able to override the default hidden behavior on the sphinx rendered scikit-learn.org. See: https://github.com/scikit-learn/scikit-learn/issues/21755 */display: inline-block !important;position: relative;}#sk-container-id-1 div.sk-text-repr-fallback {display: none;}</style><div id=\"sk-container-id-1\" class=\"sk-top-container\"><div class=\"sk-text-repr-fallback\"><pre>KNeighborsRegressor(n_neighbors=3)</pre><b>In a Jupyter environment, please rerun this cell to show the HTML representation or trust the notebook. <br />On GitHub, the HTML representation is unable to render, please try loading this page with nbviewer.org.</b></div><div class=\"sk-container\" hidden><div class=\"sk-item\"><div class=\"sk-estimator sk-toggleable\"><input class=\"sk-toggleable__control sk-hidden--visually\" id=\"sk-estimator-id-1\" type=\"checkbox\" checked><label for=\"sk-estimator-id-1\" class=\"sk-toggleable__label sk-toggleable__label-arrow\">KNeighborsRegressor</label><div class=\"sk-toggleable__content\"><pre>KNeighborsRegressor(n_neighbors=3)</pre></div></div></div></div></div>"
            ]
          },
          "metadata": {},
          "execution_count": 3
        }
      ]
    },
    {
      "cell_type": "code",
      "source": [
        "print(knr.predict([[50]]))"
      ],
      "metadata": {
        "colab": {
          "base_uri": "https://localhost:8080/"
        },
        "id": "57_ekt38EbcR",
        "outputId": "d6d10d09-0541-40b1-abc1-fd34b814af45"
      },
      "execution_count": null,
      "outputs": [
        {
          "output_type": "stream",
          "name": "stdout",
          "text": [
            "[1033.33333333]\n"
          ]
        }
      ]
    },
    {
      "cell_type": "code",
      "source": [
        "import matplotlib.pyplot as plt\n",
        "\n",
        "distances, indexes = knr.kneighbors([[50]])\n",
        "\n",
        "plt.scatter(train_input, train_target)\n",
        "plt.scatter(train_input[indexes], train_target[indexes], marker='D')\n",
        "\n",
        "plt.scatter(50, 1033, marker='^')\n",
        "plt.xlabel('length')\n",
        "plt.ylabel('weight')\n",
        "plt.show()"
      ],
      "metadata": {
        "colab": {
          "base_uri": "https://localhost:8080/",
          "height": 449
        },
        "id": "sMC-Kh6bEwxZ",
        "outputId": "d872cd05-92b3-46ac-d694-813ba60d6200"
      },
      "execution_count": null,
      "outputs": [
        {
          "output_type": "display_data",
          "data": {
            "text/plain": [
              "<Figure size 640x480 with 1 Axes>"
            ],
            "image/png": "[encoded data removed]"
          },
          "metadata": {}
        }
      ]
    },
    {
      "cell_type": "code",
      "source": [
        "print(np.mean(train_target[indexes]))"
      ],
      "metadata": {
        "colab": {
          "base_uri": "https://localhost:8080/"
        },
        "id": "L29UgV71FRmA",
        "outputId": "16f7bddf-556c-4fb2-c9ca-32cc22e60fc3"
      },
      "execution_count": null,
      "outputs": [
        {
          "output_type": "stream",
          "name": "stdout",
          "text": [
            "1033.3333333333333\n"
          ]
        }
      ]
    },
    {
      "cell_type": "code",
      "source": [
        "knr.predict([[100]])"
      ],
      "metadata": {
        "colab": {
          "base_uri": "https://localhost:8080/"
        },
        "id": "sJTafJyXFiJJ",
        "outputId": "391a28a0-fef0-44df-80c1-18780c0459f3"
      },
      "execution_count": null,
      "outputs": [
        {
          "output_type": "execute_result",
          "data": {
            "text/plain": [
              "array([1033.33333333])"
            ]
          },
          "metadata": {},
          "execution_count": 7
        }
      ]
    },
    {
      "cell_type": "code",
      "source": [
        "distances, indexes = knr.kneighbors([[100]])\n",
        "\n",
        "plt.scatter(train_input, train_target)\n",
        "plt.scatter(train_input[indexes], train_target[indexes], marker='D')\n",
        "\n",
        "plt.scatter(100, 1033, marker='^')\n",
        "plt.xlabel('length')\n",
        "plt.ylabel('weight')\n",
        "plt.show()"
      ],
      "metadata": {
        "colab": {
          "base_uri": "https://localhost:8080/",
          "height": 449
        },
        "id": "Ye3HAFj7IrWx",
        "outputId": "0b40cbf9-0671-44f3-8206-7d1284ecd1e4"
      },
      "execution_count": null,
      "outputs": [
        {
          "output_type": "display_data",
          "data": {
            "text/plain": [
              "<Figure size 640x480 with 1 Axes>"
            ],
            "image/png": "[encoded data removed]"
          },
          "metadata": {}
        }
      ]
    },
    {
      "cell_type": "code",
      "source": [
        "from sklearn.linear_model import LinearRegression\n",
        "lr = LinearRegression()\n",
        "\n",
        "lr.fit(train_input, train_target)\n",
        "print(lr.predict([[50]]))"
      ],
      "metadata": {
        "colab": {
          "base_uri": "https://localhost:8080/"
        },
        "id": "Yr8ONB1qI18Z",
        "outputId": "73ac66af-4400-441b-bade-a1d99706365b"
      },
      "execution_count": null,
      "outputs": [
        {
          "output_type": "stream",
          "name": "stdout",
          "text": [
            "[1241.83860323]\n"
          ]
        }
      ]
    },
    {
      "cell_type": "code",
      "source": [
        "print(lr.coef_, lr.intercept_)"
      ],
      "metadata": {
        "colab": {
          "base_uri": "https://localhost:8080/"
        },
        "id": "7NuSiMUiMlhB",
        "outputId": "4f34d2e7-885e-43c3-ec5c-7d9344fa27a1"
      },
      "execution_count": null,
      "outputs": [
        {
          "output_type": "stream",
          "name": "stdout",
          "text": [
            "[39.01714496] -709.0186449535477\n"
          ]
        }
      ]
    },
    {
      "cell_type": "code",
      "source": [
        "plt.scatter(train_input, train_target)\n",
        "\n",
        "plt.plot([15, 50], [15*lr.coef_+lr.intercept_, 50*lr.coef_+lr.intercept_])\n",
        "plt.scatter(50, 1241.8, marker='^')\n",
        "\n",
        "plt.xlabel('length')\n",
        "plt.ylabel('weight')\n",
        "plt.show()"
      ],
      "metadata": {
        "colab": {
          "base_uri": "https://localhost:8080/",
          "height": 449
        },
        "id": "zu_FRzSKMrUJ",
        "outputId": "cb4024de-80ea-42cb-84db-6cd3a5015d74"
      },
      "execution_count": null,
      "outputs": [
        {
          "output_type": "display_data",
          "data": {
            "text/plain": [
              "<Figure size 640x480 with 1 Axes>"
            ],
            "image/png": "[encoded data removed]"
          },
          "metadata": {}
        }
      ]
    },
    {
      "cell_type": "code",
      "source": [
        "print(lr.score(train_input, train_target))\n",
        "print(lr.score(test_input, test_target))"
      ],
      "metadata": {
        "colab": {
          "base_uri": "https://localhost:8080/"
        },
        "id": "7Aw_R_yROWH5",
        "outputId": "acf1e2a9-b85e-40f6-e340-a8ae2b09f588"
      },
      "execution_count": null,
      "outputs": [
        {
          "output_type": "stream",
          "name": "stdout",
          "text": [
            "0.939846333997604\n",
            "0.8247503123313558\n"
          ]
        }
      ]
    },
    {
      "cell_type": "code",
      "source": [
        "train_poly = np.column_stack((train_input**2, train_input))\n",
        "test_poly = np.column_stack((test_input**2, test_input))"
      ],
      "metadata": {
        "id": "rTuu73R6Oowp"
      },
      "execution_count": null,
      "outputs": []
    },
    {
      "cell_type": "code",
      "source": [
        "print(train_poly.shape, test_poly.shape)"
      ],
      "metadata": {
        "colab": {
          "base_uri": "https://localhost:8080/"
        },
        "id": "w83mTp9CO--5",
        "outputId": "21ba587b-0dc5-4a11-8594-81b3eadc9e14"
      },
      "execution_count": null,
      "outputs": [
        {
          "output_type": "stream",
          "name": "stdout",
          "text": [
            "(42, 2) (14, 2)\n"
          ]
        }
      ]
    },
    {
      "cell_type": "code",
      "source": [
        "lr = LinearRegression()\n",
        "lr.fit(train_poly, train_target)\n",
        "\n",
        "print(lr.predict([[50**2, 50]]))"
      ],
      "metadata": {
        "colab": {
          "base_uri": "https://localhost:8080/"
        },
        "id": "IXpSwsazPD1B",
        "outputId": "387ec281-732b-458a-d54d-38677e78edce"
      },
      "execution_count": null,
      "outputs": [
        {
          "output_type": "stream",
          "name": "stdout",
          "text": [
            "[1573.98423528]\n"
          ]
        }
      ]
    },
    {
      "cell_type": "code",
      "source": [
        "print(lr.coef_, lr.intercept_)"
      ],
      "metadata": {
        "colab": {
          "base_uri": "https://localhost:8080/"
        },
        "id": "pYrmfAgrPOBp",
        "outputId": "b829947f-0e6a-46c4-e151-bcfa24ae9b7a"
      },
      "execution_count": null,
      "outputs": [
        {
          "output_type": "stream",
          "name": "stdout",
          "text": [
            "[  1.01433211 -21.55792498] 116.0502107827827\n"
          ]
        }
      ]
    },
    {
      "cell_type": "code",
      "source": [
        "point = np.arange(15,50)\n",
        "\n",
        "plt.scatter(train_input, train_target)\n",
        "\n",
        "plt.plot(point, 1.01*point**2 - 21.6*point + 116.05)\n",
        "\n",
        "plt.scatter(50, 1574, marker='^')\n",
        "plt.show()"
      ],
      "metadata": {
        "id": "HXo6IrNoPakB",
        "colab": {
          "base_uri": "https://localhost:8080/",
          "height": 430
        },
        "outputId": "31a432e0-534a-4448-8cfd-7add7a99caf2"
      },
      "execution_count": null,
      "outputs": [
        {
          "output_type": "display_data",
          "data": {
            "text/plain": [
              "<Figure size 640x480 with 1 Axes>"
            ],
            "image/png": "[encoded data removed]"
          },
          "metadata": {}
        }
      ]
    },
    {
      "cell_type": "code",
      "source": [
        "print(lr.score(train_poly, train_target))\n",
        "print(lr.score(test_poly, test_target))"
      ],
      "metadata": {
        "colab": {
          "base_uri": "https://localhost:8080/"
        },
        "id": "oYz3sr1LFlgx",
        "outputId": "f0036816-1552-4b93-b404-4c31ef310046"
      },
      "execution_count": null,
      "outputs": [
        {
          "output_type": "stream",
          "name": "stdout",
          "text": [
            "0.9706807451768623\n",
            "0.9775935108325122\n"
          ]
        }
      ]
    },
    {
      "cell_type": "markdown",
      "source": [
        "## 3-3. 특성 공학과 규제"
      ],
      "metadata": {
        "id": "TsuiHKZdDqOq"
      }
    },
    {
      "cell_type": "code",
      "source": [
        "import pandas as pd\n",
        "import numpy as np\n",
        "\n",
        "df = pd.read_csv('https://bit.ly/perch_csv_data')\n",
        "perch_full = df.to_numpy()\n",
        "\n",
        "perch_full"
      ],
      "metadata": {
        "colab": {
          "base_uri": "https://localhost:8080/"
        },
        "id": "NWH8u-dKFjfl",
        "outputId": "7a9a6f46-95b8-4b3c-b953-3dc328b826c6"
      },
      "execution_count": null,
      "outputs": [
        {
          "output_type": "execute_result",
          "data": {
            "text/plain": [
              "array([[ 8.4 ,  2.11,  1.41],\n",
              "       [13.7 ,  3.53,  2.  ],\n",
              "       [15.  ,  3.82,  2.43],\n",
              "       [16.2 ,  4.59,  2.63],\n",
              "       [17.4 ,  4.59,  2.94],\n",
              "       [18.  ,  5.22,  3.32],\n",
              "       [18.7 ,  5.2 ,  3.12],\n",
              "       [19.  ,  5.64,  3.05],\n",
              "       [19.6 ,  5.14,  3.04],\n",
              "       [20.  ,  5.08,  2.77],\n",
              "       [21.  ,  5.69,  3.56],\n",
              "       [21.  ,  5.92,  3.31],\n",
              "       [21.  ,  5.69,  3.67],\n",
              "       [21.3 ,  6.38,  3.53],\n",
              "       [22.  ,  6.11,  3.41],\n",
              "       [22.  ,  5.64,  3.52],\n",
              "       [22.  ,  6.11,  3.52],\n",
              "       [22.  ,  5.88,  3.52],\n",
              "       [22.  ,  5.52,  4.  ],\n",
              "       [22.5 ,  5.86,  3.62],\n",
              "       [22.5 ,  6.79,  3.62],\n",
              "       [22.7 ,  5.95,  3.63],\n",
              "       [23.  ,  5.22,  3.63],\n",
              "       [23.5 ,  6.28,  3.72],\n",
              "       [24.  ,  7.29,  3.72],\n",
              "       [24.  ,  6.38,  3.82],\n",
              "       [24.6 ,  6.73,  4.17],\n",
              "       [25.  ,  6.44,  3.68],\n",
              "       [25.6 ,  6.56,  4.24],\n",
              "       [26.5 ,  7.17,  4.14],\n",
              "       [27.3 ,  8.32,  5.14],\n",
              "       [27.5 ,  7.17,  4.34],\n",
              "       [27.5 ,  7.05,  4.34],\n",
              "       [27.5 ,  7.28,  4.57],\n",
              "       [28.  ,  7.82,  4.2 ],\n",
              "       [28.7 ,  7.59,  4.64],\n",
              "       [30.  ,  7.62,  4.77],\n",
              "       [32.8 , 10.03,  6.02],\n",
              "       [34.5 , 10.26,  6.39],\n",
              "       [35.  , 11.49,  7.8 ],\n",
              "       [36.5 , 10.88,  6.86],\n",
              "       [36.  , 10.61,  6.74],\n",
              "       [37.  , 10.84,  6.26],\n",
              "       [37.  , 10.57,  6.37],\n",
              "       [39.  , 11.14,  7.49],\n",
              "       [39.  , 11.14,  6.  ],\n",
              "       [39.  , 12.43,  7.35],\n",
              "       [40.  , 11.93,  7.11],\n",
              "       [40.  , 11.73,  7.22],\n",
              "       [40.  , 12.38,  7.46],\n",
              "       [40.  , 11.14,  6.63],\n",
              "       [42.  , 12.8 ,  6.87],\n",
              "       [43.  , 11.93,  7.28],\n",
              "       [43.  , 12.51,  7.42],\n",
              "       [43.5 , 12.6 ,  8.14],\n",
              "       [44.  , 12.49,  7.6 ]])"
            ]
          },
          "metadata": {},
          "execution_count": 2
        }
      ]
    },
    {
      "cell_type": "code",
      "source": [
        "perch_weight = np.array(\n",
        "    [  5.9, 32.0, 40.0, 51.5, 70.0, 100.0, 78.0, 80.0, 85.0, 85.0,\n",
        "     110.0, 115.0, 125.0, 130.0, 120.0, 120.0, 130.0, 135.0, 110.0,\n",
        "     130.0, 150.0, 145.0, 150.0, 170.0, 225.0, 145.0, 188.0, 180.0,\n",
        "     197.0, 218.0, 300.0, 260.0, 265.0, 250.0, 250.0, 300.0, 320.0,\n",
        "     514.0, 556.0, 840.0, 685.0, 700.0, 700.0, 690.0, 900.0, 650.0,\n",
        "     820.0, 850.0, 900.0, 1015.0, 820.0, 1100.0, 1000.0, 1100.0,\n",
        "     1000.0, 1000.0]\n",
        "     )"
      ],
      "metadata": {
        "id": "YZUpUmJzGzk1"
      },
      "execution_count": null,
      "outputs": []
    },
    {
      "cell_type": "code",
      "source": [
        "from sklearn.model_selection import train_test_split\n",
        "\n",
        "train_input, test_input, train_target, test_target = train_test_split(perch_full, perch_weight, random_state=42)"
      ],
      "metadata": {
        "id": "wftMwPSIG8Ss"
      },
      "execution_count": null,
      "outputs": []
    },
    {
      "cell_type": "code",
      "source": [
        "from sklearn.preprocessing import PolynomialFeatures"
      ],
      "metadata": {
        "id": "SMbqYOQeHI29"
      },
      "execution_count": null,
      "outputs": []
    },
    {
      "cell_type": "code",
      "source": [
        "poly = PolynomialFeatures()\n",
        "poly.fit([[2, 3]])\n",
        "print(poly.transform([[2, 3]]))"
      ],
      "metadata": {
        "colab": {
          "base_uri": "https://localhost:8080/"
        },
        "id": "3Cad2jhqdK7-",
        "outputId": "4a2797aa-356a-4209-8027-ed2c2e717b0b"
      },
      "execution_count": null,
      "outputs": [
        {
          "output_type": "stream",
          "name": "stdout",
          "text": [
            "[[1. 2. 3. 4. 6. 9.]]\n"
          ]
        }
      ]
    },
    {
      "cell_type": "code",
      "source": [
        "poly = PolynomialFeatures(include_bias = False)\n",
        "poly.fit([[2, 3]])\n",
        "print(poly.transform([[2, 3]]))"
      ],
      "metadata": {
        "colab": {
          "base_uri": "https://localhost:8080/"
        },
        "id": "H_SMXDtsdTXm",
        "outputId": "53607652-efcd-4a6b-b198-ae7837b021a8"
      },
      "execution_count": null,
      "outputs": [
        {
          "output_type": "stream",
          "name": "stdout",
          "text": [
            "[[2. 3. 4. 6. 9.]]\n"
          ]
        }
      ]
    },
    {
      "cell_type": "code",
      "source": [
        "poly = PolynomialFeatures(include_bias=False)\n",
        "poly.fit(train_input)\n",
        "train_poly = poly.transform(train_input)\n",
        "\n",
        "print(train_poly.shape)"
      ],
      "metadata": {
        "colab": {
          "base_uri": "https://localhost:8080/"
        },
        "id": "iz1w2iTmdsLG",
        "outputId": "e4fad94b-e7df-4488-c365-86ffbb174e8c"
      },
      "execution_count": null,
      "outputs": [
        {
          "output_type": "stream",
          "name": "stdout",
          "text": [
            "(42, 9)\n"
          ]
        }
      ]
    },
    {
      "cell_type": "code",
      "source": [
        "poly.get_feature_names_out()"
      ],
      "metadata": {
        "colab": {
          "base_uri": "https://localhost:8080/"
        },
        "id": "OfU_4S8thNOm",
        "outputId": "25cdb778-9d88-427c-ea35-0c0102d70ed5"
      },
      "execution_count": null,
      "outputs": [
        {
          "output_type": "execute_result",
          "data": {
            "text/plain": [
              "array(['x0', 'x1', 'x2', 'x0^2', 'x0 x1', 'x0 x2', 'x1^2', 'x1 x2',\n",
              "       'x2^2'], dtype=object)"
            ]
          },
          "metadata": {},
          "execution_count": 9
        }
      ]
    },
    {
      "cell_type": "code",
      "source": [
        "test_poly = poly.transform(test_input)"
      ],
      "metadata": {
        "id": "Jj8nhFtihWPN"
      },
      "execution_count": null,
      "outputs": []
    },
    {
      "cell_type": "code",
      "source": [
        "from sklearn.linear_model import LinearRegression\n",
        "\n",
        "lr = LinearRegression()\n",
        "lr.fit(train_poly, train_target)\n",
        "print(lr.score(train_poly, train_target))"
      ],
      "metadata": {
        "colab": {
          "base_uri": "https://localhost:8080/"
        },
        "id": "wswlZBufnSjk",
        "outputId": "7e9e0058-e4d0-4a0c-9c5d-8f40203af38d"
      },
      "execution_count": null,
      "outputs": [
        {
          "output_type": "stream",
          "name": "stdout",
          "text": [
            "0.9903183436982125\n"
          ]
        }
      ]
    },
    {
      "cell_type": "code",
      "source": [
        "lr.score(test_poly, test_target)"
      ],
      "metadata": {
        "colab": {
          "base_uri": "https://localhost:8080/"
        },
        "id": "ciWXSEg-ng6l",
        "outputId": "dc694a8c-9cd8-4af3-ce90-b4c3882c971d"
      },
      "execution_count": null,
      "outputs": [
        {
          "output_type": "execute_result",
          "data": {
            "text/plain": [
              "0.9714559911594111"
            ]
          },
          "metadata": {},
          "execution_count": 12
        }
      ]
    },
    {
      "cell_type": "code",
      "source": [
        "poly = PolynomialFeatures(degree=5, include_bias=False)\n",
        "poly.fit(train_input)\n",
        "train_poly = poly.transform(train_input)\n",
        "test_poly = poly.transform(test_input)\n",
        "\n",
        "print(train_poly.shape)"
      ],
      "metadata": {
        "colab": {
          "base_uri": "https://localhost:8080/"
        },
        "id": "ux7O53qznxfG",
        "outputId": "cac71eae-a5b4-4a9c-dc09-54f9766cc23b"
      },
      "execution_count": null,
      "outputs": [
        {
          "output_type": "stream",
          "name": "stdout",
          "text": [
            "(42, 55)\n"
          ]
        }
      ]
    },
    {
      "cell_type": "code",
      "source": [
        "lr.fit(train_poly, train_target)\n",
        "print(lr.score(train_poly, train_target))\n",
        "print(lr.score(test_poly, test_target))"
      ],
      "metadata": {
        "colab": {
          "base_uri": "https://localhost:8080/"
        },
        "id": "8iX2RWfroBxl",
        "outputId": "9175ca4d-0147-44bd-8cbb-7606c505635b"
      },
      "execution_count": null,
      "outputs": [
        {
          "output_type": "stream",
          "name": "stdout",
          "text": [
            "0.9999999999996433\n",
            "-144.40579436844948\n"
          ]
        }
      ]
    },
    {
      "cell_type": "code",
      "source": [
        "from sklearn.preprocessing import StandardScaler\n",
        "\n",
        "ss = StandardScaler()\n",
        "ss.fit(train_poly)\n",
        "\n",
        "train_scaled = ss.transform(train_poly)\n",
        "test_scaled = ss.transform(test_poly)"
      ],
      "metadata": {
        "id": "gdUOp2s6oLIU"
      },
      "execution_count": null,
      "outputs": []
    },
    {
      "cell_type": "code",
      "source": [
        "from sklearn.linear_model import Ridge\n",
        "ridge = Ridge()\n",
        "ridge.fit(train_scaled, train_target)\n",
        "print(ridge.score(train_scaled, train_target))"
      ],
      "metadata": {
        "colab": {
          "base_uri": "https://localhost:8080/"
        },
        "id": "xUIeIPp5wb52",
        "outputId": "8975e06a-75bf-4bee-e2af-21d4a7945ad1"
      },
      "execution_count": null,
      "outputs": [
        {
          "output_type": "stream",
          "name": "stdout",
          "text": [
            "0.9896101671037343\n"
          ]
        }
      ]
    },
    {
      "cell_type": "code",
      "source": [
        "print(ridge.score(test_scaled, test_target))"
      ],
      "metadata": {
        "colab": {
          "base_uri": "https://localhost:8080/"
        },
        "id": "FNDlCzHWxdJ2",
        "outputId": "37ee1df5-7ca2-4f34-cb98-896a336cd484"
      },
      "execution_count": null,
      "outputs": [
        {
          "output_type": "stream",
          "name": "stdout",
          "text": [
            "0.9790693977615387\n"
          ]
        }
      ]
    },
    {
      "cell_type": "code",
      "source": [
        "import matplotlib.pyplot as plt\n",
        "\n",
        "train_score = []\n",
        "test_score = []"
      ],
      "metadata": {
        "id": "THfeITdtxnVu"
      },
      "execution_count": null,
      "outputs": []
    },
    {
      "cell_type": "code",
      "source": [
        "alpha_list = [0.001, 0.01, 0.1, 1, 10, 100]\n",
        "\n",
        "for a in alpha_list:\n",
        "  ridge = Ridge(alpha = a)\n",
        "  ridge.fit(train_scaled, train_target)\n",
        "\n",
        "  train_score.append(ridge.score(train_scaled, train_target))\n",
        "  test_score.append(ridge.score(test_scaled, test_target))"
      ],
      "metadata": {
        "id": "N03liFY7x682"
      },
      "execution_count": null,
      "outputs": []
    },
    {
      "cell_type": "code",
      "source": [
        "plt.plot(np.log10(alpha_list), train_score)\n",
        "plt.plot(np.log10(alpha_list), test_score)\n",
        "\n",
        "plt.xlabel('alpha')\n",
        "plt.ylabel('R^2')\n",
        "plt.show()"
      ],
      "metadata": {
        "colab": {
          "base_uri": "https://localhost:8080/",
          "height": 449
        },
        "id": "bmEgMa4AySi-",
        "outputId": "f45d6d18-09ff-4eeb-fc8e-fa14a0f973aa"
      },
      "execution_count": null,
      "outputs": [
        {
          "output_type": "display_data",
          "data": {
            "text/plain": [
              "<Figure size 640x480 with 1 Axes>"
            ],
            "image/png": "[encoded data removed]"
          },
          "metadata": {}
        }
      ]
    },
    {
      "cell_type": "code",
      "source": [
        "ridge = Ridge(alpha=0.1)\n",
        "ridge.fit(train_scaled, train_target)\n",
        "print(ridge.score(train_scaled, train_target))\n",
        "print(ridge.score(test_scaled, test_target))"
      ],
      "metadata": {
        "colab": {
          "base_uri": "https://localhost:8080/"
        },
        "id": "1bWjAzi905cE",
        "outputId": "ddce845c-b243-4c6f-cb81-eb22e0938e48"
      },
      "execution_count": null,
      "outputs": [
        {
          "output_type": "stream",
          "name": "stdout",
          "text": [
            "0.9903815817570367\n",
            "0.9827976465386928\n"
          ]
        }
      ]
    },
    {
      "cell_type": "code",
      "source": [
        "from sklearn.linear_model import Lasso\n",
        "lasso = Lasso()\n",
        "lasso.fit(train_scaled, train_target)\n",
        "print(lasso.score(train_scaled, train_target))"
      ],
      "metadata": {
        "colab": {
          "base_uri": "https://localhost:8080/"
        },
        "id": "R_tORHid1Lp-",
        "outputId": "7a20c780-b62e-47d4-e083-3d011348f2bf"
      },
      "execution_count": null,
      "outputs": [
        {
          "output_type": "stream",
          "name": "stdout",
          "text": [
            "0.989789897208096\n"
          ]
        }
      ]
    },
    {
      "cell_type": "code",
      "source": [
        "print(lasso.score(test_scaled, test_target))"
      ],
      "metadata": {
        "colab": {
          "base_uri": "https://localhost:8080/"
        },
        "id": "dZHCVUcY2jBe",
        "outputId": "2d10433e-8c20-454f-ecf1-605b7092fcfe"
      },
      "execution_count": null,
      "outputs": [
        {
          "output_type": "stream",
          "name": "stdout",
          "text": [
            "0.9800593698421883\n"
          ]
        }
      ]
    },
    {
      "cell_type": "code",
      "source": [
        "train_score = []\n",
        "test_score = []\n",
        "\n",
        "for a in alpha_list:\n",
        "  lasso = Lasso(alpha = a)\n",
        "  lasso.fit(train_scaled, train_target)\n",
        "\n",
        "  train_score.append(lasso.score(train_scaled, train_target))\n",
        "  test_score.append(lasso.score(test_scaled, test_target))"
      ],
      "metadata": {
        "colab": {
          "base_uri": "https://localhost:8080/"
        },
        "id": "JoBKHVf22rhW",
        "outputId": "0c694e35-d80d-4a2c-85db-fbe3d66d3d32"
      },
      "execution_count": null,
      "outputs": [
        {
          "output_type": "stream",
          "name": "stderr",
          "text": [
            "/usr/local/lib/python3.10/dist-packages/sklearn/linear_model/_coordinate_descent.py:631: ConvergenceWarning: Objective did not converge. You might want to increase the number of iterations, check the scale of the features or consider increasing regularisation. Duality gap: 2.336e+04, tolerance: 5.183e+02\n",
            "  model = cd_fast.enet_coordinate_descent(\n",
            "/usr/local/lib/python3.10/dist-packages/sklearn/linear_model/_coordinate_descent.py:631: ConvergenceWarning: Objective did not converge. You might want to increase the number of iterations, check the scale of the features or consider increasing regularisation. Duality gap: 2.025e+04, tolerance: 5.183e+02\n",
            "  model = cd_fast.enet_coordinate_descent(\n",
            "/usr/local/lib/python3.10/dist-packages/sklearn/linear_model/_coordinate_descent.py:631: ConvergenceWarning: Objective did not converge. You might want to increase the number of iterations, check the scale of the features or consider increasing regularisation. Duality gap: 8.062e+02, tolerance: 5.183e+02\n",
            "  model = cd_fast.enet_coordinate_descent(\n"
          ]
        }
      ]
    },
    {
      "cell_type": "code",
      "source": [
        "plt.plot(np.log10(alpha_list), train_score)\n",
        "plt.plot(np.log10(alpha_list), test_score)\n",
        "plt.show()"
      ],
      "metadata": {
        "colab": {
          "base_uri": "https://localhost:8080/",
          "height": 430
        },
        "id": "_e6-rIXH3G7W",
        "outputId": "f964252f-c89c-4526-a0da-e81cdc72f57c"
      },
      "execution_count": null,
      "outputs": [
        {
          "output_type": "display_data",
          "data": {
            "text/plain": [
              "<Figure size 640x480 with 1 Axes>"
            ],
            "image/png": "[encoded data removed]"
          },
          "metadata": {}
        }
      ]
    },
    {
      "cell_type": "code",
      "source": [
        "lasso = Lasso(alpha=10)\n",
        "lasso.fit(train_scaled, train_target)\n",
        "print(lasso.score(train_scaled, train_target))\n",
        "print(lasso.score(test_scaled, test_target))"
      ],
      "metadata": {
        "colab": {
          "base_uri": "https://localhost:8080/"
        },
        "id": "QMCG352V3PBG",
        "outputId": "b74243c5-a758-4b2b-82d0-ae0b544af01b"
      },
      "execution_count": null,
      "outputs": [
        {
          "output_type": "stream",
          "name": "stdout",
          "text": [
            "0.9888067471131867\n",
            "0.9824470598706695\n"
          ]
        }
      ]
    },
    {
      "cell_type": "code",
      "source": [
        "print(np.sum(lasso.coef_ == 0))"
      ],
      "metadata": {
        "colab": {
          "base_uri": "https://localhost:8080/"
        },
        "id": "rCeKjYWz9W-V",
        "outputId": "e5f02078-915c-4cb4-c86c-1f73b5782a33"
      },
      "execution_count": null,
      "outputs": [
        {
          "output_type": "stream",
          "name": "stdout",
          "text": [
            "40\n"
          ]
        }
      ]
    }
  ]
}