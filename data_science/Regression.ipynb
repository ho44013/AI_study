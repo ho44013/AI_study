{
  "cells": [
    {
      "cell_type": "markdown",
      "metadata": {
        "id": "view-in-github",
        "colab_type": "text"
      },
      "source": [
        "<a href=\"https://colab.research.google.com/github/ho44013/machine_study/blob/main/data_science/Regression.ipynb\" target=\"_parent\"><img src=\"https://colab.research.google.com/assets/colab-badge.svg\" alt=\"Open In Colab\"/></a>"
      ]
    },
    {
      "cell_type": "markdown",
      "metadata": {
        "id": "xBkGlL7-JBun"
      },
      "source": [
        "# 1. Linear Regression Practice"
      ]
    },
    {
      "cell_type": "code",
      "execution_count": null,
      "metadata": {
        "colab": {
          "base_uri": "https://localhost:8080/"
        },
        "id": "M1CQvAFx-vr0",
        "outputId": "117d499d-23a4-4585-9cda-af09e36d974f"
      },
      "outputs": [
        {
          "output_type": "stream",
          "name": "stdout",
          "text": [
            "x =  tensor([[1, 2, 3],\n",
            "        [4, 5, 6],\n",
            "        [7, 8, 9]])\n",
            "y =  tensor([[1., 2., 3.],\n",
            "        [4., 5., 6.]])\n",
            "Size:  2\n",
            "Shape:  torch.Size([3, 3])\n",
            "차원(랭크):  2\n"
          ]
        }
      ],
      "source": [
        "import torch\n",
        "\n",
        "x = torch.tensor([[1,2,3], [4,5,6], [7,8,9]])\n",
        "y = torch.FloatTensor([[1,2,3], [4,5,6]])\n",
        "\n",
        "print(\"x = \", x)\n",
        "print(\"y = \", y)\n",
        "print(\"Size: \", len(x.size()))\n",
        "print(\"Shape: \", x.shape)\n",
        "print(\"차원(랭크): \", x.ndimension())"
      ]
    },
    {
      "cell_type": "code",
      "execution_count": null,
      "metadata": {
        "id": "4LwVRteZD6tB",
        "colab": {
          "base_uri": "https://localhost:8080/"
        },
        "outputId": "a4439147-77ce-4ad5-b657-cda627b96457"
      },
      "outputs": [
        {
          "output_type": "stream",
          "name": "stdout",
          "text": [
            "x0.shape:  torch.Size([1, 3, 3])\n",
            "x1.shape: torch.Size([3, 1, 3])\n",
            "x2.shape: torch.Size([3, 3, 1])\n",
            "x0 = tensor([[[1, 2, 3],\n",
            "         [4, 5, 6],\n",
            "         [7, 8, 9]]])\n",
            "x1 = tensor([[[1, 2, 3]],\n",
            "\n",
            "        [[4, 5, 6]],\n",
            "\n",
            "        [[7, 8, 9]]])\n",
            "x2 = tensor([[[1],\n",
            "         [2],\n",
            "         [3]],\n",
            "\n",
            "        [[4],\n",
            "         [5],\n",
            "         [6]],\n",
            "\n",
            "        [[7],\n",
            "         [8],\n",
            "         [9]]])\n"
          ]
        }
      ],
      "source": [
        "x0 = torch.unsqueeze(x, 0)\n",
        "x1 = torch.unsqueeze(x, 1)\n",
        "x2 = torch.unsqueeze(x, 2)\n",
        "print(\"x0.shape: \", x0.shape)\n",
        "print(\"x1.shape:\", x1.shape)\n",
        "print(\"x2.shape:\", x2.shape)\n",
        "print(\"x0 =\", x0)\n",
        "print(\"x1 =\", x1)\n",
        "print(\"x2 =\", x2)\n"
      ]
    },
    {
      "cell_type": "code",
      "source": [
        "x3 = torch.squeeze(x0)\n",
        "print(\"x3 = \", x3)\n",
        "print(\"x3.shape = \", x3.shape)"
      ],
      "metadata": {
        "colab": {
          "base_uri": "https://localhost:8080/"
        },
        "id": "1n5xl0JnK-CJ",
        "outputId": "bb2bfb94-f624-4516-82f8-412668edcdba"
      },
      "execution_count": null,
      "outputs": [
        {
          "output_type": "stream",
          "name": "stdout",
          "text": [
            "x3 =  tensor([[1, 2, 3],\n",
            "        [4, 5, 6],\n",
            "        [7, 8, 9]])\n",
            "x3.shape =  torch.Size([3, 3])\n"
          ]
        }
      ]
    },
    {
      "cell_type": "code",
      "source": [
        "x4 = x.view(9)\n",
        "x5 = x.view(1, 3, 3)\n",
        "print(\"x4 = \", x4)\n",
        "print(\"x5 = \", x5)"
      ],
      "metadata": {
        "colab": {
          "base_uri": "https://localhost:8080/"
        },
        "id": "E1CEhaRmLOwv",
        "outputId": "fb339a83-9ba6-48d2-b470-5e2e7825f79d"
      },
      "execution_count": null,
      "outputs": [
        {
          "output_type": "stream",
          "name": "stdout",
          "text": [
            "x4 =  tensor([1, 2, 3, 4, 5, 6, 7, 8, 9])\n",
            "x5 =  tensor([[[1, 2, 3],\n",
            "         [4, 5, 6],\n",
            "         [7, 8, 9]]])\n"
          ]
        }
      ]
    },
    {
      "cell_type": "code",
      "source": [
        "x = torch.FloatTensor([[1,2], [3,4], [5,6]])\n",
        "w = torch.randn(1,2, dtype=torch.float)\n",
        "b = torch.randn(3,1, dtype=torch.float)\n",
        "\n",
        "result = x @ torch.t(w) + b\n",
        "print(result)"
      ],
      "metadata": {
        "colab": {
          "base_uri": "https://localhost:8080/"
        },
        "id": "fThudL5MLYcJ",
        "outputId": "fe2554ef-2814-4d26-b43a-8b2593636fa3"
      },
      "execution_count": null,
      "outputs": [
        {
          "output_type": "stream",
          "name": "stdout",
          "text": [
            "tensor([[-0.0946],\n",
            "        [-0.7188],\n",
            "        [-2.6790]])\n"
          ]
        }
      ]
    },
    {
      "cell_type": "code",
      "source": [
        "w = torch.tensor(1.0, requires_grad=True)\n",
        "a = w*3\n",
        "l = a**2\n",
        "l.backward()\n",
        "\n",
        "print('l을 w로 미분한 값은', w.grad)"
      ],
      "metadata": {
        "colab": {
          "base_uri": "https://localhost:8080/"
        },
        "id": "UVluYeLzMVdW",
        "outputId": "93930567-b543-4b82-d066-2ac5f479ceee"
      },
      "execution_count": null,
      "outputs": [
        {
          "output_type": "stream",
          "name": "stdout",
          "text": [
            "l을 w로 미분한 값은 tensor(18.)\n"
          ]
        }
      ]
    },
    {
      "cell_type": "code",
      "source": [
        "x_train = torch.FloatTensor([[1,2], [3,2], [3,7], [1,1], [1,0]])\n",
        "y_train = torch.FloatTensor([[4], [8], [23], [1], [-2]])\n",
        "\n",
        "W = torch.randn(2,1)\n",
        "b = torch.randn(1,1)\n",
        "lr = 0.01\n",
        "\n",
        "for epoch in range(3001):\n",
        "  W.requires_grad_(True)\n",
        "  b.requires_grad_(True)\n",
        "\n",
        "  hypothesis = torch.mm(x_train, W) + b\n",
        "  cost = torch.mean((hypothesis - y_train) ** 2)\n",
        "\n",
        "  cost.backward()\n",
        "  with torch.no_grad() as grd:\n",
        "    W = W - lr * W.grad\n",
        "    b = b - lr * b.grad\n",
        "\n",
        "    if epoch % 100 == 0:\n",
        "      print(f\"epoch: {epoch}, cost: {cost:.6f}, W: {W.squeeze()}, b: {b}\")\n",
        "\n",
        "x_test = torch.FloatTensor([[5, 10]])\n",
        "test_result = torch.mm(x_test, W) + b\n",
        "print(test_result.item())"
      ],
      "metadata": {
        "colab": {
          "base_uri": "https://localhost:8080/"
        },
        "id": "FRcZNHdhMcaX",
        "outputId": "63223f1c-039d-4ead-c983-543647687b97"
      },
      "execution_count": null,
      "outputs": [
        {
          "output_type": "stream",
          "name": "stdout",
          "text": [
            "tensor([[-1.0511],\n",
            "        [ 0.9600]]) tensor([[-0.6418]])\n",
            "epoch: 0, cost: 103.573708, W: tensor([-0.6709,  1.6382]), b: tensor([[-0.5012]])\n",
            "epoch: 100, cost: 1.542468, W: tensor([0.4680, 3.2545]), b: tensor([[-1.3941]])\n",
            "epoch: 200, cost: 0.790740, W: tensor([0.8766, 3.2007]), b: tensor([[-2.1493]])\n",
            "epoch: 300, cost: 0.406350, W: tensor([1.1918, 3.1460]), b: tensor([[-2.6752]])\n",
            "epoch: 400, cost: 0.208831, W: tensor([1.4203, 3.1049]), b: tensor([[-3.0505]])\n",
            "epoch: 500, cost: 0.107322, W: tensor([1.5844, 3.0752]), b: tensor([[-3.3194]])\n",
            "epoch: 600, cost: 0.055155, W: tensor([1.7021, 3.0539]), b: tensor([[-3.5121]])\n",
            "epoch: 700, cost: 0.028345, W: tensor([1.7864, 3.0387]), b: tensor([[-3.6502]])\n",
            "epoch: 800, cost: 0.014567, W: tensor([1.8469, 3.0277]), b: tensor([[-3.7492]])\n",
            "epoch: 900, cost: 0.007486, W: tensor([1.8902, 3.0199]), b: tensor([[-3.8202]])\n",
            "epoch: 1000, cost: 0.003847, W: tensor([1.9213, 3.0142]), b: tensor([[-3.8711]])\n",
            "epoch: 1100, cost: 0.001977, W: tensor([1.9436, 3.0102]), b: tensor([[-3.9076]])\n",
            "epoch: 1200, cost: 0.001016, W: tensor([1.9596, 3.0073]), b: tensor([[-3.9338]])\n",
            "epoch: 1300, cost: 0.000522, W: tensor([1.9710, 3.0052]), b: tensor([[-3.9525]])\n",
            "epoch: 1400, cost: 0.000268, W: tensor([1.9792, 3.0038]), b: tensor([[-3.9660]])\n",
            "epoch: 1500, cost: 0.000138, W: tensor([1.9851, 3.0027]), b: tensor([[-3.9756]])\n",
            "epoch: 1600, cost: 0.000071, W: tensor([1.9893, 3.0019]), b: tensor([[-3.9825]])\n",
            "epoch: 1700, cost: 0.000036, W: tensor([1.9923, 3.0014]), b: tensor([[-3.9875]])\n",
            "epoch: 1800, cost: 0.000019, W: tensor([1.9945, 3.0010]), b: tensor([[-3.9910]])\n",
            "epoch: 1900, cost: 0.000010, W: tensor([1.9961, 3.0007]), b: tensor([[-3.9936]])\n",
            "epoch: 2000, cost: 0.000005, W: tensor([1.9972, 3.0005]), b: tensor([[-3.9954]])\n",
            "epoch: 2100, cost: 0.000003, W: tensor([1.9980, 3.0004]), b: tensor([[-3.9967]])\n",
            "epoch: 2200, cost: 0.000001, W: tensor([1.9986, 3.0003]), b: tensor([[-3.9976]])\n",
            "epoch: 2300, cost: 0.000001, W: tensor([1.9990, 3.0002]), b: tensor([[-3.9983]])\n",
            "epoch: 2400, cost: 0.000000, W: tensor([1.9993, 3.0001]), b: tensor([[-3.9988]])\n",
            "epoch: 2500, cost: 0.000000, W: tensor([1.9995, 3.0001]), b: tensor([[-3.9991]])\n",
            "epoch: 2600, cost: 0.000000, W: tensor([1.9996, 3.0001]), b: tensor([[-3.9994]])\n",
            "epoch: 2700, cost: 0.000000, W: tensor([1.9997, 3.0000]), b: tensor([[-3.9995]])\n",
            "epoch: 2800, cost: 0.000000, W: tensor([1.9998, 3.0000]), b: tensor([[-3.9997]])\n",
            "epoch: 2900, cost: 0.000000, W: tensor([1.9999, 3.0000]), b: tensor([[-3.9998]])\n",
            "epoch: 3000, cost: 0.000000, W: tensor([1.9999, 3.0000]), b: tensor([[-3.9998]])\n",
            "35.999839782714844\n"
          ]
        }
      ]
    },
    {
      "cell_type": "code",
      "source": [
        "from sklearn.linear_model import LinearRegression\n",
        "\n",
        "x = [[1, 2, 7], [3, 2, 5], [3, 7, 2], [1, 1, 1], [1, 0, -5]]\n",
        "y = [[4], [8], [23], [1], [-2]]\n",
        "\n",
        "lr = LinearRegression()\n",
        "lr.fit(x, y)\n",
        "\n",
        "print(lr.coef_, lr.intercept_)\n",
        "print(lr.predict([[5, 10, 10]]))"
      ],
      "metadata": {
        "colab": {
          "base_uri": "https://localhost:8080/"
        },
        "id": "OXCQY9s6Nnuq",
        "outputId": "98923510-5edf-4cc0-c320-69efb0891cdc"
      },
      "execution_count": null,
      "outputs": [
        {
          "output_type": "stream",
          "name": "stdout",
          "text": [
            "[[2. 3. 0.]] [-4.]\n",
            "[[36.]]\n"
          ]
        }
      ]
    },
    {
      "cell_type": "markdown",
      "source": [
        "# 2. Logistic Regression Practice"
      ],
      "metadata": {
        "id": "Ird3LY8HOzlK"
      }
    },
    {
      "cell_type": "code",
      "source": [
        "import torch\n",
        "\n",
        "x_train = torch.FloatTensor([[1],[2],[3],[4],[5],[2.5],[3.5],[0],[3.1],[2.7],[2.8],[2.9]])\n",
        "y_train = torch.FloatTensor([[1],[1],[1],[0],[0],[0],[0],[1],[0],[1],[1],[1]])\n",
        "\n",
        "W = torch.rand(1,1)\n",
        "b = torch.rand(1,1)\n",
        "\n",
        "lr = 1.0\n",
        "\n",
        "for epoch in range(3001):\n",
        "  W.requires_grad_(True)\n",
        "  b.requires_grad_(True)\n",
        "\n",
        "  h = torch.sigmoid(torch.mm(x_train, W) + b)\n",
        "  cost = torch.mean(-y_train * torch.log(h) - (1 - y_train) * torch.log(1 - h))\n",
        "\n",
        "  cost.backward()\n",
        "  with torch.no_grad() as grd:\n",
        "    W = W - lr * W.grad\n",
        "    b = b - lr * b.grad\n",
        "\n",
        "    if epoch % 100 == 0:\n",
        "      print(f\"epoch: {epoch}, cost: {cost:.6f}, W: {W.squeeze():.6f}, b: {b.squeeze():.6f}\")\n",
        "\n",
        "x_test = torch.FloatTensor([[4.5], [1.1]])\n",
        "test_result = torch.sigmoid(torch.mm(x_test, W) + b)\n",
        "print(torch.round(test_result))"
      ],
      "metadata": {
        "colab": {
          "base_uri": "https://localhost:8080/"
        },
        "id": "S5K4D-ZaO5LN",
        "outputId": "15a0ad31-ba8c-41b6-e4f7-a2261866bb09"
      },
      "execution_count": null,
      "outputs": [
        {
          "output_type": "stream",
          "name": "stdout",
          "text": [
            "epoch: 0, cost: 0.743404, W: -0.357853, b: 0.012425\n",
            "epoch: 100, cost: 0.420165, W: -1.452150, b: 4.409600\n",
            "epoch: 200, cost: 0.398705, W: -1.898918, b: 5.775224\n",
            "epoch: 300, cost: 0.390813, W: -2.174649, b: 6.610539\n",
            "epoch: 400, cost: 0.387005, W: -2.367565, b: 7.192312\n",
            "epoch: 500, cost: 0.384922, W: -2.510805, b: 7.623068\n",
            "epoch: 600, cost: 0.383697, W: -2.620919, b: 7.953582\n",
            "epoch: 700, cost: 0.382943, W: -2.707509, b: 8.213139\n",
            "epoch: 800, cost: 0.382462, W: -2.776686, b: 8.420290\n",
            "epoch: 900, cost: 0.382149, W: -2.832593, b: 8.587576\n",
            "epoch: 1000, cost: 0.381941, W: -2.878172, b: 8.723877\n",
            "epoch: 1100, cost: 0.381801, W: -2.915580, b: 8.835689\n",
            "epoch: 1200, cost: 0.381706, W: -2.946442, b: 8.927902\n",
            "epoch: 1300, cost: 0.381641, W: -2.972012, b: 9.004277\n",
            "epoch: 1400, cost: 0.381596, W: -2.993268, b: 9.067752\n",
            "epoch: 1500, cost: 0.381565, W: -3.010989, b: 9.120659\n",
            "epoch: 1600, cost: 0.381543, W: -3.025795, b: 9.164855\n",
            "epoch: 1700, cost: 0.381528, W: -3.038186, b: 9.201839\n",
            "epoch: 1800, cost: 0.381517, W: -3.048573, b: 9.232836\n",
            "epoch: 1900, cost: 0.381509, W: -3.057289, b: 9.258845\n",
            "epoch: 2000, cost: 0.381504, W: -3.064613, b: 9.280697\n",
            "epoch: 2100, cost: 0.381500, W: -3.070772, b: 9.299073\n",
            "epoch: 2200, cost: 0.381497, W: -3.075955, b: 9.314537\n",
            "epoch: 2300, cost: 0.381495, W: -3.080320, b: 9.327558\n",
            "epoch: 2400, cost: 0.381494, W: -3.083996, b: 9.338526\n",
            "epoch: 2500, cost: 0.381493, W: -3.087095, b: 9.347768\n",
            "epoch: 2600, cost: 0.381492, W: -3.089708, b: 9.355563\n",
            "epoch: 2700, cost: 0.381492, W: -3.091911, b: 9.362135\n",
            "epoch: 2800, cost: 0.381492, W: -3.093770, b: 9.367681\n",
            "epoch: 2900, cost: 0.381491, W: -3.095339, b: 9.372360\n",
            "epoch: 3000, cost: 0.381491, W: -3.096664, b: 9.376310\n",
            "tensor([[0.],\n",
            "        [1.]])\n"
          ]
        }
      ]
    },
    {
      "cell_type": "code",
      "source": [
        "import torch\n",
        "import matplotlib.pyplot as plt\n",
        "\n",
        "x_train = torch.FloatTensor([[1], [2], [3], [4], [5], [2.5], [3.5], [0], [3.1], [2.7], [2.8], [2.9]])\n",
        "y_train = torch.FloatTensor([[1], [1], [1], [0], [0], [0], [0], [1], [0], [1], [1], [1]])\n",
        "\n",
        "W = torch.randn(1, 1, requires_grad=True)\n",
        "b = torch.randn(1, 1, requires_grad=True)\n",
        "\n",
        "optimizer = torch.optim.SGD([W,b], lr=1.0)\n",
        "# optimizer = torch.optim.Adam([W,b], lr=0.1)\n",
        "# optimizer = torch.optim.Adadelta([W,b])\n",
        "# optimizer = torch.optim.Adagrad([W,b], lr=1)\n",
        "# # 이 optimizer는 값이 이상하게 나오던데 왜인지는 모르겠음\n",
        "# optimizer = torch.optim.RMSprop([W,b])\n",
        "\n",
        "\n",
        "for epoch in range(3001):\n",
        "    h = torch.sigmoid(x_train @ W + b)\n",
        "    cost = torch.mean(-y_train * torch.log(h) - (1 - y_train) * torch.log(1 - h))\n",
        "\n",
        "    optimizer.zero_grad()\n",
        "    cost.backward()\n",
        "    optimizer.step()\n",
        "\n",
        "    with torch.no_grad() as grd:\n",
        "        if epoch % 100 == 0:\n",
        "            print(f\"epoch: {epoch}, cost: {cost:.6f}, W: {W.squeeze():.6f}, b: {b.squeeze():.6f}\")\n"
      ],
      "metadata": {
        "id": "HnmAbqjzuTnQ",
        "colab": {
          "base_uri": "https://localhost:8080/"
        },
        "outputId": "a4f908c1-7595-4ba5-afd8-a54fc368a219"
      },
      "execution_count": null,
      "outputs": [
        {
          "output_type": "stream",
          "name": "stdout",
          "text": [
            "epoch: 0, cost: 0.954234, W: 0.522286, b: -0.577692\n",
            "epoch: 100, cost: 0.422561, W: -1.415626, b: 4.297308\n",
            "epoch: 200, cost: 0.399415, W: -1.878766, b: 5.713975\n",
            "epoch: 300, cost: 0.391127, W: -2.161164, b: 6.569797\n",
            "epoch: 400, cost: 0.387169, W: -2.357791, b: 7.162883\n",
            "epoch: 500, cost: 0.385016, W: -2.503402, b: 7.600829\n",
            "epoch: 600, cost: 0.383754, W: -2.615155, b: 7.936296\n",
            "epoch: 700, cost: 0.382978, W: -2.702938, b: 8.199444\n",
            "epoch: 800, cost: 0.382485, W: -2.773010, b: 8.409286\n",
            "epoch: 900, cost: 0.382164, W: -2.829610, b: 8.578652\n",
            "epoch: 1000, cost: 0.381951, W: -2.875730, b: 8.716578\n",
            "epoch: 1100, cost: 0.381808, W: -2.913569, b: 8.829680\n",
            "epoch: 1200, cost: 0.381711, W: -2.944781, b: 8.922938\n",
            "epoch: 1300, cost: 0.381644, W: -2.970634, b: 9.000160\n",
            "epoch: 1400, cost: 0.381598, W: -2.992121, b: 9.064326\n",
            "epoch: 1500, cost: 0.381566, W: -3.010030, b: 9.117795\n",
            "epoch: 1600, cost: 0.381544, W: -3.024992, b: 9.162457\n",
            "epoch: 1700, cost: 0.381528, W: -3.037513, b: 9.199830\n",
            "epoch: 1800, cost: 0.381517, W: -3.048008, b: 9.231152\n",
            "epoch: 1900, cost: 0.381510, W: -3.056816, b: 9.257432\n",
            "epoch: 2000, cost: 0.381504, W: -3.064215, b: 9.279510\n",
            "epoch: 2100, cost: 0.381500, W: -3.070438, b: 9.298076\n",
            "epoch: 2200, cost: 0.381497, W: -3.075674, b: 9.313697\n",
            "epoch: 2300, cost: 0.381496, W: -3.080081, b: 9.326847\n",
            "epoch: 2400, cost: 0.381494, W: -3.083796, b: 9.337929\n",
            "epoch: 2500, cost: 0.381493, W: -3.086927, b: 9.347267\n",
            "epoch: 2600, cost: 0.381492, W: -3.089566, b: 9.355142\n",
            "epoch: 2700, cost: 0.381492, W: -3.091792, b: 9.361779\n",
            "epoch: 2800, cost: 0.381492, W: -3.093670, b: 9.367381\n",
            "epoch: 2900, cost: 0.381491, W: -3.095256, b: 9.372110\n",
            "epoch: 3000, cost: 0.381491, W: -3.096593, b: 9.376101\n"
          ]
        }
      ]
    },
    {
      "cell_type": "code",
      "source": [
        "W.requires_grad_(False)\n",
        "b.requires_grad_(False)\n",
        "\n",
        "plt.scatter(x_train, y_train, c=\"black\")\n",
        "X = torch.linspace(0,5,100).unsqueeze(1)\n",
        "Y = torch.sigmoid(torch.mm(X,W)+b)\n",
        "plt.plot(X, Y, c=\"#ff0000\")\n",
        "plt.show()"
      ],
      "metadata": {
        "colab": {
          "base_uri": "https://localhost:8080/",
          "height": 430
        },
        "id": "Kr2-yIJJxV4U",
        "outputId": "0e29f0fc-0e4f-496b-d6eb-e029dc8c2500"
      },
      "execution_count": null,
      "outputs": [
        {
          "output_type": "display_data",
          "data": {
            "text/plain": [
              "<Figure size 640x480 with 1 Axes>"
            ],
            "image/png": "[encoded data removed]"
          },
          "metadata": {}
        }
      ]
    },
    {
      "cell_type": "code",
      "source": [
        "from sklearn.linear_model import LogisticRegression\n",
        "\n",
        "x_train = [[1],[2],[3],[4],[5],[2.5],[3.5],[0],[3.1],[2.7],[2.8],[2.9]]\n",
        "y_train = [1,1,1,0,0,0,0,1,0,1,1,1]\n",
        "\n",
        "model = LogisticRegression(penalty=None)\n",
        "model.fit(x_train, y_train)\n",
        "\n",
        "print(model.coef_, model.intercept_)\n",
        "\n",
        "x_test = [[4.5],[1.1]]\n",
        "test_result = model.predict(x_test)\n",
        "print(test_result)"
      ],
      "metadata": {
        "colab": {
          "base_uri": "https://localhost:8080/"
        },
        "id": "HxjCwUsaxgvW",
        "outputId": "bdd858a4-6cdd-4ed3-e797-366d25cc1bd1"
      },
      "execution_count": null,
      "outputs": [
        {
          "output_type": "stream",
          "name": "stdout",
          "text": [
            "[[-3.10385806]] [9.39776831]\n",
            "[0 1]\n"
          ]
        }
      ]
    },
    {
      "cell_type": "markdown",
      "source": [
        "# 3. Softmax Regression Practice"
      ],
      "metadata": {
        "id": "Zx-h-j7k2RoX"
      }
    },
    {
      "cell_type": "code",
      "source": [
        "import torch\n",
        "\n",
        "x_train = torch.FloatTensor([[1,2,1,1], [2,1,3,2], [3,1,3,4], [4,1,5,5],\n",
        "                            [1,7,5,5], [1,2,5,6], [1,6,6,6], [1,7,7,7]])\n",
        "y_train = torch.FloatTensor([[0,0,1], [0,0,1], [0,0,1], [0,1,0],\n",
        "                            [0,1,0], [0,1,0], [1,0,0], [1,0,0]])\n",
        "\n",
        "W = torch.rand(4, 3, requires_grad=True)\n",
        "b = torch.rand(1, 3, requires_grad=True)\n",
        "optimizer = torch.optim.Adam([W,b], lr=0.1)\n",
        "\n",
        "for epoch in range(3001):\n",
        "    h = torch.softmax(torch.mm(x_train, W) + b, dim=1)\n",
        "    cost = -torch.mean(torch.sum(y_train * torch.log(h), dim=1))\n",
        "\n",
        "    # h = (torch.mm(x_train, W) + b).softmax(dim=1)\n",
        "    # cost = -(y_train * torch.log(h)).sum(dim=1).mean()\n",
        "\n",
        "\n",
        "    optimizer.zero_grad()\n",
        "    cost.backward()\n",
        "    optimizer.step()\n",
        "\n",
        "    with torch.no_grad():\n",
        "      if epoch % 100 == 0:\n",
        "        print(f\"epoch: {epoch}, cost: {cost.item()}\")\n",
        "\n",
        "print(torch.argmax(h, dim= 1))"
      ],
      "metadata": {
        "colab": {
          "base_uri": "https://localhost:8080/"
        },
        "id": "-rnaFN9u2WKy",
        "outputId": "c62fe739-b7f8-4fc1-bf44-fbb4f081480b"
      },
      "execution_count": null,
      "outputs": [
        {
          "output_type": "stream",
          "name": "stdout",
          "text": [
            "epoch: 0, cost: 1.0926320552825928\n",
            "epoch: 100, cost: 0.26102447509765625\n",
            "epoch: 200, cost: 0.15212231874465942\n",
            "epoch: 300, cost: 0.0998399555683136\n",
            "epoch: 400, cost: 0.0709516853094101\n",
            "epoch: 500, cost: 0.05314202979207039\n",
            "epoch: 600, cost: 0.041332367807626724\n",
            "epoch: 700, cost: 0.033082395792007446\n",
            "epoch: 800, cost: 0.027084778994321823\n",
            "epoch: 900, cost: 0.022583408281207085\n",
            "epoch: 1000, cost: 0.01911536045372486\n",
            "epoch: 1100, cost: 0.016384445130825043\n",
            "epoch: 1200, cost: 0.014193632639944553\n",
            "epoch: 1300, cost: 0.012407924048602581\n",
            "epoch: 1400, cost: 0.010932214558124542\n",
            "epoch: 1500, cost: 0.009697952307760715\n",
            "epoch: 1600, cost: 0.008654617704451084\n",
            "epoch: 1700, cost: 0.0077643683180212975\n",
            "epoch: 1800, cost: 0.006998403929173946\n",
            "epoch: 1900, cost: 0.006334477104246616\n",
            "epoch: 2000, cost: 0.005754970945417881\n",
            "epoch: 2100, cost: 0.005246228538453579\n",
            "epoch: 2200, cost: 0.0047970181331038475\n",
            "epoch: 2300, cost: 0.004398487973958254\n",
            "epoch: 2400, cost: 0.004043188877403736\n",
            "epoch: 2500, cost: 0.003725206246599555\n",
            "epoch: 2600, cost: 0.0034394138492643833\n",
            "epoch: 2700, cost: 0.003181739244610071\n",
            "epoch: 2800, cost: 0.0029486026614904404\n",
            "epoch: 2900, cost: 0.002737026195973158\n",
            "epoch: 3000, cost: 0.00254449644125998\n",
            "tensor([2, 2, 2, 1, 1, 1, 0, 0])\n"
          ]
        }
      ]
    },
    {
      "cell_type": "code",
      "source": [
        "W.requires_grad_(False)\n",
        "b.requires_grad_(False)\n",
        "\n",
        "x_test = torch.FloatTensor([[1,11,10,9], [1,3,4,3], [1,1,0,1]])\n",
        "h_test = torch.softmax(torch.mm(x_test, W) + b, dim=1)\n",
        "print(h_test)\n",
        "print(torch.argmax(h_test, dim=1))"
      ],
      "metadata": {
        "colab": {
          "base_uri": "https://localhost:8080/"
        },
        "id": "B0NHstKfAIAv",
        "outputId": "484efb55-53be-4d52-d7ac-b3e7dfc8d0b0"
      },
      "execution_count": null,
      "outputs": [
        {
          "output_type": "stream",
          "name": "stdout",
          "text": [
            "tensor([[1.0000e+00, 8.6425e-19, 4.2438e-38],\n",
            "        [1.8032e-03, 8.5748e-01, 1.4072e-01],\n",
            "        [1.1293e-33, 6.5684e-12, 1.0000e+00]])\n",
            "tensor([0, 1, 2])\n"
          ]
        }
      ]
    },
    {
      "cell_type": "code",
      "source": [
        "import torch\n",
        "import torch.nn.functional as F\n",
        "import torch.nn as nn\n",
        "\n",
        "x_train = torch.FloatTensor([[1,2,1,1], [2,1,3,2], [3,1,3,4], [4,1,5,5],\n",
        "                            [1,7,5,5], [1,2,5,6], [1,6,6,6], [1,7,7,7]])\n",
        "y_train = torch.tensor([2, 2, 2, 1, 1, 1, 0, 0], dtype=torch.long)\n",
        "\n",
        "# W = torch.rand(4, 3, requires_grad=True)\n",
        "# b = torch.rand(1, 3, requires_grad=True)\n",
        "model = nn.Linear(4,3) # W의 크기와 똑같이\n",
        "\n",
        "optimizer = torch.optim.Adam(model.parameters(), lr=0.1)\n",
        "\n",
        "for epoch in range(3001):\n",
        "    # h = torch.mm(x_train, W) + b\n",
        "    h = model(x_train)\n",
        "    cost = F.cross_entropy(h, y_train)\n",
        "\n",
        "    optimizer.zero_grad()\n",
        "    cost.backward()\n",
        "    optimizer.step()\n",
        "\n",
        "    with torch.no_grad():\n",
        "      if epoch % 100 == 0:\n",
        "        print(f\"epoch: {epoch}, cost: {cost.item()}\")"
      ],
      "metadata": {
        "id": "Heic0takDeHU",
        "colab": {
          "base_uri": "https://localhost:8080/"
        },
        "outputId": "4f714d14-4f36-4c2f-f04a-a365d6368d77"
      },
      "execution_count": null,
      "outputs": [
        {
          "output_type": "stream",
          "name": "stdout",
          "text": [
            "epoch: 0, cost: 2.077101707458496\n",
            "epoch: 100, cost: 0.34192538261413574\n",
            "epoch: 200, cost: 0.22457635402679443\n",
            "epoch: 300, cost: 0.15560947358608246\n",
            "epoch: 400, cost: 0.11402758955955505\n",
            "epoch: 500, cost: 0.08722130209207535\n",
            "epoch: 600, cost: 0.0688886046409607\n",
            "epoch: 700, cost: 0.055770546197891235\n",
            "epoch: 800, cost: 0.04604986682534218\n",
            "epoch: 900, cost: 0.03864268213510513\n",
            "epoch: 1000, cost: 0.0328669399023056\n",
            "epoch: 1100, cost: 0.02827518619596958\n",
            "epoch: 1200, cost: 0.02456354908645153\n",
            "epoch: 1300, cost: 0.021519947797060013\n",
            "epoch: 1400, cost: 0.01899247244000435\n",
            "epoch: 1500, cost: 0.01687026023864746\n",
            "epoch: 1600, cost: 0.015070663765072823\n",
            "epoch: 1700, cost: 0.01353122666478157\n",
            "epoch: 1800, cost: 0.012203936465084553\n",
            "epoch: 1900, cost: 0.011051386594772339\n",
            "epoch: 2000, cost: 0.010044106282293797\n",
            "epoch: 2100, cost: 0.009158704429864883\n",
            "epoch: 2200, cost: 0.008376318961381912\n",
            "epoch: 2300, cost: 0.0076815467327833176\n",
            "epoch: 2400, cost: 0.007061811164021492\n",
            "epoch: 2500, cost: 0.006506867241114378\n",
            "epoch: 2600, cost: 0.006007918156683445\n",
            "epoch: 2700, cost: 0.005557897500693798\n",
            "epoch: 2800, cost: 0.005150600802153349\n",
            "epoch: 2900, cost: 0.0047809286043047905\n",
            "epoch: 3000, cost: 0.00444446736946702\n"
          ]
        }
      ]
    },
    {
      "cell_type": "code",
      "source": [
        "model"
      ],
      "metadata": {
        "colab": {
          "base_uri": "https://localhost:8080/"
        },
        "id": "_QRzI-eZ8ddU",
        "outputId": "0ea25541-bd51-47eb-a2e0-a1272821ec4d"
      },
      "execution_count": null,
      "outputs": [
        {
          "output_type": "execute_result",
          "data": {
            "text/plain": [
              "Linear(in_features=4, out_features=3, bias=True)"
            ]
          },
          "metadata": {},
          "execution_count": 8
        }
      ]
    },
    {
      "cell_type": "code",
      "source": [
        "import numpy as np\n",
        "from sklearn.linear_model import LogisticRegression\n",
        "\n",
        "x_train = np.array([[1,2,1,1], [2,1,3,2], [3,1,3,4], [4,1,5,5],\n",
        "                    [1,7,5,5], [1,2,5,6], [1,6,6,6], [1,7,7,7]])\n",
        "y_train = np.array([2, 2, 2, 1, 1, 1, 0, 0])\n",
        "\n",
        "logistic = LogisticRegression(penalty=None)\n",
        "logistic.fit(x_train, y_train)\n",
        "\n",
        "pred = logistic.predict([[1,11,10,9], [1,3,4,3], [1,1,0,1]])\n",
        "print(pred)"
      ],
      "metadata": {
        "colab": {
          "base_uri": "https://localhost:8080/"
        },
        "id": "qnHtQYWw82rW",
        "outputId": "8bb9118b-3ef5-4aa9-dd02-f0a0faccd53c"
      },
      "execution_count": null,
      "outputs": [
        {
          "output_type": "stream",
          "name": "stdout",
          "text": [
            "[0 1 2]\n"
          ]
        }
      ]
    }
  ],
  "metadata": {
    "colab": {
      "provenance": [],
      "authorship_tag": "ABX9TyPdQwkUMlfRokt62sIKvnox",
      "include_colab_link": true
    },
    "kernelspec": {
      "display_name": "Python 3",
      "name": "python3"
    },
    "language_info": {
      "name": "python"
    }
  },
  "nbformat": 4,
  "nbformat_minor": 0
}